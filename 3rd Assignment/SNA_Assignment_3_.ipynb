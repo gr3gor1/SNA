{
  "cells": [
    {
      "cell_type": "markdown",
      "id": "1f35580e",
      "metadata": {
        "id": "1f35580e"
      },
      "source": [
        "<html><font size=6><B>3η εργαστηριακή άσκηση</B><BR>\n",
        "    <BR><B>Link prediction - Πρόβλεψη συνδέσμων</B></BR>\n",
        "    </font></html>"
      ]
    },
    {
      "cell_type": "markdown",
      "id": "b30af479",
      "metadata": {
        "id": "b30af479"
      },
      "source": [
        "<html><font size=4><B>1. Κατασκευή γράφου και προεργασία για την πρόβλεψη συνδέσμων</B></font>\n",
        "    <li><B>1(i).</B> Χρησιμοποιήστε το dataset <a href=\"http://konect.cc/networks/dbpedia-similar/\"> Similarities (DBpedia)</a>, για να κατασκευάσετε τον μη κατευθυνόμενο (undirected) γράφο $G$ <a href=\"https://dl.acm.org/doi/10.1145/2487788.2488173\">[1]</a>,<a href=\"https://link.springer.com/chapter/10.1007/978-3-540-76298-0_52\">[2]</a>. Οι κόμβοι του γράφου αναπαριστούν σελίδες της Wikipedia και οι ακμές σχέση ομοιότητας μεταξύ τους. Στην σελίδα <a href=\"http://konect.cc/networks/dbpedia-similar/\"> KONECT (DBpedia)</a> μπορείτε να βρείτε πληροφορίες για τις ιδιότητες του γράφου.</a><BR>\n",
        "        <B><U>Υπόδειξη:</U></B> Μπορείτε να ελέγξετε προγραμματιστικά αν το dataset περιέχει διπλότυπα των ακμών με την ίδια ή αντίστροφη σειρά (π.χ. ακμές (a,b) και (b,a)), και να λάβετε υπ' όψιν σας αυτήν σας την παρατήρηση, όπου τυχόν χρειαστεί, στην ερώτηση 2.<BR></html>"
      ]
    },
    {
      "cell_type": "markdown",
      "id": "4bd79bac",
      "metadata": {
        "id": "4bd79bac"
      },
      "source": [
        " <li><B>1(ii).</B> Εμφανίστε τον αριθμό των κόμβων, τον αριθμό των ακμών, τον μέσο βαθμό των κόμβων και τον αριθμό των συνεκτικών συνιστωσών (connected components) για τον γράφο $G$.</li><BR>"
      ]
    },
    {
      "cell_type": "code",
      "execution_count": 4,
      "id": "9277a4e2",
      "metadata": {
        "colab": {
          "base_uri": "https://localhost:8080/"
        },
        "id": "9277a4e2",
        "outputId": "a6bcbbf3-ede3-422d-aa95-206ef18da1f2"
      },
      "outputs": [
        {
          "output_type": "stream",
          "name": "stdout",
          "text": [
            "same edges: 1\n",
            "The isolates are : ['420']\n",
            "inital node count: 429\n",
            "initial edge count: 564\n",
            "mean degree: 0.0061433893209594135\n",
            "connected components: 94\n"
          ]
        }
      ],
      "source": [
        "%matplotlib inline\n",
        "import matplotlib\n",
        "import pandas as pd\n",
        "import networkx as nx\n",
        "import statistics\n",
        "import numpy as np\n",
        "import networkx.algorithms.link_prediction\n",
        "import matplotlib.pyplot as plt\n",
        "#εισαγωγή δεδομένων\n",
        "df = pd.read_fwf(\"out.dbpedia-similar\")\n",
        "df = df.drop([0], axis=0)\n",
        "df = df.rename(columns={\"% sym unweighted\": \"\"})\n",
        "\n",
        "#δημιουργία γράφου και εύρεση όμοιων ακμών\n",
        "G=nx.Graph()\n",
        "pairs_of_nodes=[]\n",
        "nodes=[]\n",
        "for row in df.itertuples(index=False):\n",
        "    pairs_of_nodes.append(row[0].split(' '))\n",
        "same_edges=0\n",
        "for i in range(0,len(pairs_of_nodes)):\n",
        "    search=pairs_of_nodes[i]\n",
        "    search1=pairs_of_nodes[i].reverse()\n",
        "    if search1 in pairs_of_nodes:\n",
        "        same_edges=same_edges+1\n",
        "        continue\n",
        "    if search in pairs_of_nodes:\n",
        "        if(i!=pairs_of_nodes.index(search)):\n",
        "            same_edges=same_edges+1\n",
        "            continue\n",
        "    if pairs_of_nodes[i][0]==pairs_of_nodes[i][1]:\n",
        "        same_edges=same_edges+1\n",
        "print('same edges:',same_edges)\n",
        "for i in range(0,len(pairs_of_nodes)):\n",
        "    pairs_of_nodes[i].reverse()\n",
        "G.add_edges_from(pairs_of_nodes)\n",
        "\n",
        "#αφαίρεση κόμβου 420 και ακμής (420,420)\n",
        "G.remove_edge('420','420')\n",
        "print('The isolates are :',list(nx.isolates(G)))\n",
        "G.remove_node('420')\n",
        "\n",
        "#έυρεση αριθμού κόμβων,ακμών,μέσου βαθμού και connected components\n",
        "initial_node_count= len(G.nodes)\n",
        "print('inital node count:',initial_node_count)\n",
        "initial_edge_count= len(G.edges)\n",
        "print('initial edge count:',initial_edge_count)\n",
        "degree= nx.degree_centrality(G)\n",
        "initial_mean_degree_centrality= statistics.mean(list(degree.values()))\n",
        "print('mean degree:',initial_mean_degree_centrality)\n",
        "initial_connected_components= nx.number_connected_components(G)\n",
        "print('connected components:',initial_connected_components)\n",
        "\n",
        "#αλλαγή ονομάτων κόμβων και αποθήκευση mapping\n",
        "G_mapping=dict(enumerate(G.nodes,0))\n",
        "G = nx.convert_node_labels_to_integers(G,first_label=0)"
      ]
    },
    {
      "cell_type": "markdown",
      "id": "bf03f6b9",
      "metadata": {
        "id": "bf03f6b9"
      },
      "source": [
        "<li><B>1(iii). </B>Υπολογίστε το σύνολο των ασύνδετων ζευγών κόμβων (unconnected pairs) στον γράφο χρησιμοποιώντας τον πίνακα γειτνίασης (adjacency matrix). Δώστε επίσης τον αριθμό τους. Λάβετε υπ' όψιν σας ότι ο γράφος είναι μη κατευθυνόμενος και δεν χρειάζεται να διατρέξετε ολόκληρο τον πίνακα γειτνίασης.</li><BR>"
      ]
    },
    {
      "cell_type": "code",
      "source": [
        "def reverse_tuple(tuples):\n",
        "    new_tup = tuples[::-1]\n",
        "    return new_tup\n",
        "#δημιουργία πίνακα γειτνίασης\n",
        "matrix = nx.to_numpy_matrix(G)\n",
        "matrix1 = np.asarray(matrix)\n",
        "#επιλογή άνω τριγώνου\n",
        "matrix1=np.triu(matrix1, 0)\n",
        "\n",
        "#εύρεση ακμών που δεν υπάρχουν\n",
        "unconnected=0\n",
        "pairs=[]\n",
        "pairs1=[]\n",
        "for i in range(0,len(matrix1)):\n",
        "    for j in range(i+1,len(matrix1[i])):\n",
        "        if(matrix1[i][j]==0):\n",
        "            unconnected=unconnected+1\n",
        "            pairs.append(tuple([str(i),str(j)]))\n",
        "print(unconnected)"
      ],
      "metadata": {
        "colab": {
          "base_uri": "https://localhost:8080/"
        },
        "id": "IRRUbWg9UR8S",
        "outputId": "fafbc4f1-13b0-4828-c405-1af20bc67a7d"
      },
      "id": "IRRUbWg9UR8S",
      "execution_count": 5,
      "outputs": [
        {
          "output_type": "stream",
          "name": "stdout",
          "text": [
            "91242\n"
          ]
        }
      ]
    },
    {
      "cell_type": "markdown",
      "id": "154c2a8d",
      "metadata": {
        "id": "154c2a8d"
      },
      "source": [
        "<li><B>1(iv).</B> Υπολογίστε το σύνολο των ακμών (removable edges) που μπορούν να αφαιρεθούν από τον γράφο χωρίς να υπάρχει κατάτμηση (splitting) του γράφου (δηλ. ο αριθμός των συνεκτικών συνιστωσών θα πρέπει να παραμένει αμετάβλητος). Υπόδειξη: Ελέγχετε επίσης ότι με αφαίρεση ακμής δεν μειώνεται ο αριθμός των κόμβων (εφόσον δεν υπάρχει ξεχωριστό αρχείο μόνο με κόμβους στο dataset). Δώστε επίσης τον αριθμό των ακμών (removable edges) που μπορούν να αφαιρεθούν υπό αυτές τις προϋποθέσεις.</li><BR>"
      ]
    },
    {
      "cell_type": "code",
      "execution_count": 6,
      "id": "b39c2241",
      "metadata": {
        "colab": {
          "base_uri": "https://localhost:8080/"
        },
        "id": "b39c2241",
        "outputId": "ea06d2ee-d889-4d8b-cc1b-1e5f74423fdd"
      },
      "outputs": [
        {
          "output_type": "stream",
          "name": "stdout",
          "text": [
            "Remaining connected components: 94\n",
            "Remaining nodes: 429\n"
          ]
        }
      ],
      "source": [
        "# removable edges: check splitting and number of nodes\n",
        "#εύρεση ελάχιστου συνδετικού δέντρου\n",
        "list_of_edges=list(G.edges)\n",
        "removable=[]    \n",
        "T=nx.minimum_spanning_tree(G, weight='weight', algorithm='prim', ignore_nan=False)\n",
        "#έλεγχος κόμβων και connected components\n",
        "print(\"Remaining connected components:\",nx.number_connected_components(T))\n",
        "print(\"Remaining nodes:\",len(T.nodes))\n",
        "#δημιουργία συνόλων removable και remaining\n",
        "remaining=[]\n",
        "for i in list_of_edges:\n",
        "    a=tuple(i)\n",
        "    if a in list(T.edges):\n",
        "        remaining.append(a)\n",
        "    else:\n",
        "        list(a)\n",
        "        b=tuple([str(a[0]),str(a[1])])\n",
        "        removable.append(b)"
      ]
    },
    {
      "cell_type": "markdown",
      "id": "eb03d745",
      "metadata": {
        "id": "eb03d745"
      },
      "source": [
        "<li><B>1(vα).</B> Κατασκευάστε dataframe που συνενώνει τις απαντήσεις των ερωτημάτων 1(iii) και 1(iv) (unconnected+removables). Χρησιμοποιήστε την μεταβλητή $link$ που θα παίρνει τιμή 1 ή 0 ανάλογα με την ύπαρξη συνδέσμου ή μη. To dataframe αυτό συγκεντρώνει τα θετικά και αρνητικά δείγματα για την πρόβλεψη των μελλοντικών συνδέσεων (link: target variable). <BR>\n",
        "    <li><B>1(vβ).</B> Κατασκευάστε τον γράφο $G'$ που προκύπτει από την αφαίρεση από τον γράφο $G$ των ακμών του ερωτήματος 1(iv). <BR>\n",
        "    <li><B>1(vγ).</B> Εμφανίστε τον αριθμό των κόμβων, τον αριθμό των ακμών, τον μέσο βαθμό των κόμβων και τον αριθμό των συνεκτικών συνιστωσών (connected components) για τον γράφο $G'$.</li><BR>"
      ]
    },
    {
      "cell_type": "code",
      "execution_count": 7,
      "id": "cb033fc0",
      "metadata": {
        "colab": {
          "base_uri": "https://localhost:8080/"
        },
        "id": "cb033fc0",
        "outputId": "85f29b92-448f-430a-f22f-1861f3c3184d"
      },
      "outputs": [
        {
          "output_type": "stream",
          "name": "stdout",
          "text": [
            "       0    1  2\n",
            "0      1    2  1\n",
            "1      2    3  1\n",
            "2      2    4  1\n",
            "3      3    5  1\n",
            "4      4    5  1\n",
            "..   ...  ... ..\n",
            "224  401  403  1\n",
            "225  401  404  1\n",
            "226  402  403  1\n",
            "227  402  404  1\n",
            "228  403  404  1\n",
            "\n",
            "[229 rows x 3 columns]\n",
            "         0    1  2\n",
            "0        0    5  0\n",
            "1        0    6  0\n",
            "2        0    7  0\n",
            "3        0    8  0\n",
            "4        0    9  0\n",
            "...    ...  ... ..\n",
            "91237  424  428  0\n",
            "91238  425  426  0\n",
            "91239  425  427  0\n",
            "91240  425  428  0\n",
            "91241  427  428  0\n",
            "\n",
            "[91242 rows x 3 columns]\n",
            "         0    1  2\n",
            "0        1    2  1\n",
            "1        2    3  1\n",
            "2        2    4  1\n",
            "3        3    5  1\n",
            "4        4    5  1\n",
            "...    ...  ... ..\n",
            "91466  424  428  0\n",
            "91467  425  426  0\n",
            "91468  425  427  0\n",
            "91469  425  428  0\n",
            "91470  427  428  0\n",
            "\n",
            "[91471 rows x 3 columns]\n",
            "429\n",
            "335\n",
            "0.0036489989761017794\n",
            "94\n"
          ]
        }
      ],
      "source": [
        "#δημιουργία δεδομένων removables\n",
        "link1=[]\n",
        "dummy_x=[]\n",
        "dummy_y=[]\n",
        "for i in range(0,len(removable)):\n",
        "    dummy_x.append(removable[i][0])\n",
        "    dummy_y.append(removable[i][1])\n",
        "    link1.append(1)\n",
        "\n",
        "#δημιουργία δεδομένων unconnected\n",
        "dummy_w=[]\n",
        "dummy_z=[]\n",
        "link2=[]\n",
        "for i in range(0,len(pairs)):\n",
        "    dummy_w.append(str(pairs[i][0]))\n",
        "    dummy_z.append(str(pairs[i][1]))\n",
        "    link2.append(0)\n",
        "\n",
        "#dataframe of removable edges (they will function as positive samples)\n",
        "df1 = pd.DataFrame(list(zip(dummy_x, dummy_y, link1)))\n",
        "print(df1)\n",
        "\n",
        "#dataframe of unconnected node pairs (they will function as negative samples)\n",
        "df2 = pd.DataFrame(list(zip(dummy_w, dummy_z, link2)))\n",
        "print(df2)\n",
        "\n",
        "for i in range(0,len(dummy_w)):\n",
        "    dummy_x.append(dummy_w[i])\n",
        "for j in range(0,len(dummy_z)):\n",
        "    dummy_y.append(dummy_z[j])\n",
        "for j in range(0,len(link2)):\n",
        "    link1.append(link2[j])\n",
        "\n",
        "#merge in one dataframe\n",
        "df3= pd.DataFrame(list(zip(dummy_x,dummy_y,link1)))\n",
        "print(df3)\n",
        "\n",
        "#build graph G'=G_reduced\n",
        "G_reduced=nx.Graph()\n",
        "G_reduced.add_edges_from(remaining)\n",
        "\n",
        "#απεικόνιση ζητούμενων μεγεθών\n",
        "total_nodes=len(list(G_reduced.nodes))\n",
        "print(total_nodes)\n",
        "total_edges=len(list(G_reduced.edges))\n",
        "print(total_edges)\n",
        "degree= nx.degree_centrality(G_reduced)\n",
        "mean_degree_centrality= statistics.mean(list(degree.values()))\n",
        "print(mean_degree_centrality)\n",
        "connected_components= nx.number_connected_components(G_reduced)\n",
        "print(connected_components)\n",
        "df3_dict={}\n",
        "for i in range(0,len(link1)):\n",
        "    a = tuple([dummy_x[i],dummy_y[i]])\n",
        "    df3_dict[a] = link1[i]"
      ]
    },
    {
      "cell_type": "markdown",
      "id": "184eae57",
      "metadata": {
        "id": "184eae57"
      },
      "source": [
        "<html><font size=4><B>2. Εισαγωγή σε similarity-based μετρικές για Link prediction</B></font><BR><BR>\n",
        "     <li> Η μετρική <B>Jaccard Coefficient (JC)</B> των κόμβων ${u}$ και ${v}$ ορίζεται ως $\\frac{|\\Gamma(u) \\cap \\Gamma(v)|}{|\\Gamma(u) \\cup \\Gamma(v)|}$, όπου ${\\Gamma(u)}$ είναι το σύνολο των γειτονικών κόμβων του κόμβου ${u}$.  <B></B>\n",
        "        <li> Η μετρική <B>Preferential Αttachment (PA)</B> των κόμβων $u$ και $v$ ορίζεται ως $|\\Gamma(u)| |\\Gamma(v)|$, όπου $\\Gamma(u)$ είναι το σύνολο των γειτονικών κόμβων του $u$.</li>\n",
        "        <li> Η μετρική <B>Resource Allocation (RA)</B> των κόμβων $u$ και $v$ ορίζεται ως $\\sum_{w \\in \\Gamma(u) \\cap \\Gamma(v)} \\frac{1}{|\\Gamma(w)|}$, όπου $\\Gamma(u)$ είναι το σύνολο των γειτονικών κόμβων του $u$.</li><BR><BR>\n",
        "    <li><B>2(i).</B> Για τον γράφο $G'$, που κατασκευάσατε στο ερώτημα 1(vβ), υπολογίστε την μετρική <B>Jaccard Coefficient (JC)</B>.  <u><a href=\"https://networkx.org/documentation/stable/reference/algorithms/link_prediction.html?highlight=link%20prediction\">Χρησιμοποιήστε την υλοποιημένη συνάρτηση του λογισμικού NetworkX.<a></u> <BR><BR>\n",
        "    <li><B>2(ii). </B>Δώστε τις $k$ ακμές με την υψηλότερη τιμή μετρικής $JC$, όπου $k$ ο $Α.Μ.$ σας $mod$ $10$. Για $Α.Μ.$ λήγοντα σε $0$ δώστε τις $10$ ακμές με την υψηλότερη τιμή μετρικής.\n",
        "        (Για την σύγκριση μεταξύ διαφορετικών μετρικών προτιμάται η εύρεση των $k$ επικρατέστερων συνδέσμων, αφού οι μετρικές επιστρέφουν διαφορετικό εύρος τιμών.)</li><BR>\n",
        "    <li><B>2(iii). </B>Προσδιορίστε για την μέτρηση της απόδοσης της μετρικής $JC$ τα μεγέθη $Precision$, $Recall$ και $Accuracy$ και αναπαραστήστε τα γραφικά για τιμές κατωφλίου: $0.1$, $0.15$, $0.25$, $0.5$, $1.0$.  <BR><BR>\n",
        "    $Precision=\\frac{TP}{TP+FP}$, όπου $TP$: αληθώς θετικά αποτελέσματα, $FP$: ψευδώς θετικά αποτελέσματα <BR>\n",
        "    $Recall=\\frac{TP}{TP+FN}$, όπου $TP$: αληθώς θετικά αποτελέσματα, $FN$: ψευδώς αρνητικά αποτελέσματα</li> \n",
        "    $Accuracy=\\frac{TP+TN}{TP+FN+TN+FP}$, όπου $TP$: αληθώς θετικά αποτελέσματα, $TN$: αληθώς αρνητικά αποτελέσματα, $FN$: ψευδώς αρνητικά αποτελέσματα, $FP$: ψευδώς θετικά αποτελέσματα</li><BR><BR>\n",
        "        <B><U>Υπόδειξη:</U></B>\n",
        "        Θετικό θεωρήστε ένα αποτέλεσμα, αν η μετρική $JC$ υπερβαίνει μια τιμή κατωφλίου (>=). Αρνητικό θεωρήστε το στην αντίθετη περίπτωση.\n",
        "        <li>Αληθώς θετικά είναι τα αποτελέσματα που βγήκαν θετικά (η τιμή της $JC$ υπερβαίνει την τιμή κατωφλίου) και πράγματι θα υπάρξουν οι συνδέσεις που περιγράφουν (ερ. 1(iv)).</li>\n",
        "        <li>Αληθώς αρνητικά είναι τα αποτελέσματα που βγήκαν αρνητικά και πράγματι δεν θα υπάρξουν οι συνδέσεις που περιγράφουν (ερ. 1(iii)).</li>\n",
        "        <li>Ψευδώς θετικά είναι τα αποτελέσματα που βγήκαν θετικά, ενώ δεν θα υπάρξουν οι συνδέσεις που περιγράφουν.</li>\n",
        "        <li>Ψευδώς αρνητικά είναι τα αποτελέσματα που βγήκαν αρνητικά, ενώ θα υπάρξουν οι συνδέσεις που περιγράφουν.</li>\n",
        "        <li>Το άθροισμα $TN+FP$ πρέπει κάθε φορά να σας δίνει όλες τις ασύνδετες ακμές του γράφου $G$.</li>   \n",
        "<li>Από το ερώτημα 1(iii) οι ακμές που υπολογίσατε είναι αυτές για τις οποίες δεν θα υπάρξουν συνδέσεις.</li> <li>Από το ερώτημα 1(iv) οι ακμές που υπολογίσατε είναι αυτές για τις οποίες θα υπάρξουν συνδέσεις.</li><BR></html>"
      ]
    },
    {
      "cell_type": "code",
      "execution_count": 8,
      "id": "d8b0d5fd",
      "metadata": {
        "colab": {
          "base_uri": "https://localhost:8080/",
          "height": 1000
        },
        "id": "d8b0d5fd",
        "outputId": "77dbb45e-d8fb-4e4a-e86a-6ebde5a4fd85"
      },
      "outputs": [
        {
          "output_type": "stream",
          "name": "stdout",
          "text": [
            "The k edges are : {('427', '428'): 1.0, ('422', '423'): 1.0, ('417', '418'): 1.0, ('406', '407'): 1.0, ('403', '404'): 1.0, ('402', '404'): 1.0, ('402', '403'): 1.0, ('401', '404'): 1.0, ('401', '403'): 1.0}\n",
            "TN + FP : 91242\n",
            "TN + FP : 91242\n",
            "TN + FP : 91242\n",
            "TN + FP : 91242\n",
            "TN + FP : 91242\n"
          ]
        },
        {
          "output_type": "display_data",
          "data": {
            "image/png": "[encoded data removed]",
            "text/plain": [
              "<Figure size 432x288 with 1 Axes>"
            ]
          },
          "metadata": {
            "needs_background": "light"
          }
        },
        {
          "output_type": "display_data",
          "data": {
            "image/png": "[encoded data removed]",
            "text/plain": [
              "<Figure size 432x288 with 1 Axes>"
            ]
          },
          "metadata": {
            "needs_background": "light"
          }
        },
        {
          "output_type": "display_data",
          "data": {
            "image/png": "[encoded data removed]",
            "text/plain": [
              "<Figure size 432x288 with 1 Axes>"
            ]
          },
          "metadata": {
            "needs_background": "light"
          }
        },
        {
          "output_type": "display_data",
          "data": {
            "image/png": "[encoded data removed]",
            "text/plain": [
              "<Figure size 432x288 with 1 Axes>"
            ]
          },
          "metadata": {
            "needs_background": "light"
          }
        },
        {
          "output_type": "display_data",
          "data": {
            "image/png": "[encoded data removed]",
            "text/plain": [
              "<Figure size 432x288 with 1 Axes>"
            ]
          },
          "metadata": {
            "needs_background": "light"
          }
        }
      ],
      "source": [
        "#υπολογισμός μετρικής jc\n",
        "jc= nx.jaccard_coefficient(G_reduced, ebunch=None)\n",
        "jc_results=[]\n",
        "for i in jc:\n",
        "    jc_results.append(i)\n",
        "k=9    \n",
        "jc_dict={}\n",
        "for i in range(0,len(jc_results)):\n",
        "    a=tuple([str(jc_results[i][0]),str(jc_results[i][1])])\n",
        "    jc_dict[a]=jc_results[i][2]    \n",
        "\n",
        "#ταξινόμηση αποτελεσμάτων με βάση την τιμή\n",
        "jc_dict={k: v for k, v in sorted(jc_dict.items(), key=lambda item: item[1])}\n",
        "\n",
        "#υπολογισμός των 9 ακμών με τη μεγαλύτερη τιμή μετρικής\n",
        "k_dict={}\n",
        "k_indexes=list(jc_dict.keys())\n",
        "k_values=list(jc_dict.values())\n",
        "k_indexes.reverse()\n",
        "k_values.reverse()\n",
        "for i in range(0,9):\n",
        "    k_dict[k_indexes[i]]= k_values[i]         \n",
        "print('The k edges are :',k_dict)\n",
        "\n",
        "#εύρεση απόδοσης μετρικής\n",
        "jc = list(jc_dict.values())\n",
        "jc_keys = list(jc_dict.keys())\n",
        "df3_values = list(df3_dict.values())\n",
        "df3_keys = list(df3_dict.keys())\n",
        "def function(threshold_jc):   \n",
        "    tp = 0\n",
        "    fp = 0\n",
        "    tn = 0\n",
        "    fn = 0\n",
        "    for i in jc_keys:\n",
        "        if i in df3_keys:\n",
        "            a=i\n",
        "        else:\n",
        "            a=reverse_tuple(i)\n",
        "        if((jc_dict[i]>=threshold_jc) & (df3_dict[a]==1)):\n",
        "            tp = tp + 1\n",
        "        elif((jc_dict[i]<threshold_jc) & (df3_dict[a]==0)):\n",
        "            tn = tn + 1\n",
        "        elif((jc_dict[i]<threshold_jc) & (df3_dict[a]==1)):\n",
        "            fn = fn + 1\n",
        "        elif((jc_dict[i]>=threshold_jc) & (df3_dict[a]==0)):\n",
        "            fp = fp + 1\n",
        "    recall_jc= tp/(tp+fp)\n",
        "    precision_jc= tp/(tp+fn)\n",
        "    accuracy_jc= (tp+tn)/(tp+tn+fn+fp)\n",
        "    print(\"TN + FP :\",(tn+fp))\n",
        "    return recall_jc, precision_jc, accuracy_jc \n",
        "\n",
        "#απεικόνιση αποτελεσμάτων\n",
        "thresholds=[0.1, 0.15, 0.25, 0.5, 1.0]\n",
        "labels=['recall_jc','precision_jc','accuracy_jc']\n",
        "final_results=[]\n",
        "for i in range(0,len(thresholds)):\n",
        "    final_results.append(function(thresholds[i]))\n",
        "for i in range(0,len(thresholds)):\n",
        "    plt.title(final_results[i])\n",
        "    plt.bar(range(len(labels)),list(final_results[i]),tick_label=labels)\n",
        "    plt.show()"
      ]
    },
    {
      "cell_type": "markdown",
      "id": "d432396f",
      "metadata": {
        "id": "d432396f"
      },
      "source": [
        "<html><font size=4><B>3. Πρόβλεψη συνδέσμων βάσει similarity-based μετρικών</B></font>    \n",
        "        <li><B>3(i).</B> Προτείνετε μια τουλάχιστον μέθοδο, για να εξερευνήσουμε και να εκφράσουμε μέσα από τα πακέτα NumPy ή SciPy ή Pandas την συσχέτιση (correlation) μεταξύ των τιμών των μετρικών <B>Jaccard Coefficient</B>, <B>Preferential Attachment</B>, <B>Resource Allocation</B> για τον μειωμένο γράφο $G'$. Σημ.: Δεν χρειάζεται κάποια υλοποίηση, μόνο αναφορά της μεθόδου συσχέτισης και επεξήγηση της επιλογής σας.\n",
        "     <li><B>3(ii).</B> Εργαστείτε πάνω σε <B><U>αντίγραφο</U></B> του dataframe που κατασκευάσατε στο ερώτημα 1(vα) (unconnected+removables). Δημιουργήστε στήλη (column) με τις ακμές του γράφου και θέστε την ως index του dataframe. Στο dataframe θα προσθέσετε ως στήλες τις τιμές των μετρικών (<B>Jaccard Coefficient</B>, <B>Preferential Attachment</B>, <B>Resource Allocation</B>) για τον μειωμένο γράφο $G'$. Οι τιμές των μετρικών μπορούν να υπολογιστούν με τις συναρτήσεις του πακέτου NetworkX.</li>   </font></html>\n",
        "    \n",
        "    |       | link  |Jacc.Coeff.|Pr.Attachment| Resource Allocation|\n",
        "    |-------|-------|-----------|-------------|--------------------|\n",
        "    |(1, 6) |  0    |  0.333333 |     32      |    0.700000        |\n",
        "    |(1, 46)|  0    |  0.200000 |      8      |    0.166667        |\n",
        "\n",
        "Σχετικά με τη συχέτιση μπορούμε να δοκιμάσουμε σε κάθε πιθανό συνδυασμό των τριών μεταβλητών (μετρικών) να ελεγχθεί η συσχέτιση κατά Pearson με μια εντολή της μορφής:\n",
        "\n",
        "<code>scipy.stats.pearsonr(x, y)</code>\n",
        "\n",
        "Περιμένουμε να μας επιστραφεί μια τιμή συσχέτισης από -1 έως το 1 όπου μια αρνητική τιμή υποδεικνύει πλήρως αρνητική συσχέτιση, μια θετική πλήρως θετική συσχέτιση και η τιμή 0 καμία συσχέτιση."
      ]
    },
    {
      "cell_type": "code",
      "execution_count": 9,
      "id": "7c40c8d6",
      "metadata": {
        "id": "7c40c8d6"
      },
      "outputs": [],
      "source": [
        "#replicate of the dataframe \"unconnected+removables\"---dataframe will be used again in (4)\n",
        "df4 = df3.copy()"
      ]
    },
    {
      "cell_type": "code",
      "execution_count": 10,
      "id": "8c65a3e6",
      "metadata": {
        "id": "8c65a3e6"
      },
      "outputs": [],
      "source": [
        "#dataframe for similarity-based measurement values\n",
        "#Jaccard Coefficient\n",
        "jc = nx.jaccard_coefficient(G_reduced, ebunch=None)\n",
        "jc_results=[]\n",
        "for i in jc:\n",
        "    jc_results.append(i)\n",
        "#Preferential Attachment\n",
        "pa = nx.preferential_attachment(G_reduced, ebunch=None)\n",
        "pa_results=[]\n",
        "for i in pa:\n",
        "    pa_results.append(i)\n",
        "#Resource Allocation\n",
        "ra = nx.resource_allocation_index(G_reduced, ebunch=None)\n",
        "ra_results=[]\n",
        "for i in ra:\n",
        "    ra_results.append(i)\n",
        "#διαχωρισμός ακμών και τιμών μετρικής\n",
        "def sort_results(result_list):\n",
        "    result_dict={}\n",
        "    for i in range(0,len(jc_results)):\n",
        "        a=tuple([str(result_list[i][0]),str(result_list[i][1])])\n",
        "        result_dict[a]=result_list[i][2] \n",
        "    b=list(result_dict.keys())\n",
        "    c=list(result_dict.values())\n",
        "    return b,c\n",
        "jc_sorted=sort_results(jc_results)\n",
        "pa_sorted=sort_results(pa_results)\n",
        "ra_sorted=sort_results(ra_results)\n",
        "#έλεγχος\n",
        "#for i in range(0,len(jc_sorted)):\n",
        "#    if jc_sorted[0][i]==pa_sorted[0][i] and jc_sorted[0][i]==ra_sorted[0][i]:\n",
        "#        continue\n",
        "#    else:\n",
        "#        print('no')\n",
        "index_col=jc_sorted[0]\n",
        "jc_col=jc_sorted[1]\n",
        "pa_col=pa_sorted[1]\n",
        "ra_col=ra_sorted[1]\n",
        "#περισσότερος έλεγχος\n",
        "#print(jc_results[1000],pa_results[1000],ra_results[1000])\n",
        "#print(index_col[1000],jc_col[1000],pa_col[1000],ra_col[1000])\n",
        "\n",
        "#εισαγωγή δεδομένων από το dataframe\n",
        "data=[]\n",
        "for row in df4.itertuples(index=False):\n",
        "    data.append(row[0:len(row)])\n",
        "    \n",
        "data_sorted=sort_results(data)\n",
        "\n",
        "#επεξεργασία δεδομένων dataframe\n",
        "dummy_dict={}\n",
        "for i in range(0,len(index_col)):\n",
        "    if data_sorted[0][i] in index_col:\n",
        "        target=index_col.index(data_sorted[0][i])\n",
        "        dummy_dict[target]=data_sorted[1][i]\n",
        "    else:\n",
        "        rev=reverse_tuple(data_sorted[0][i])\n",
        "        target=index_col.index(rev)\n",
        "        dummy_dict[target]=data_sorted[1][i]"
      ]
    },
    {
      "cell_type": "code",
      "source": [
        "#δημουργία dataframe\n",
        "#print(dummy_dict)\n",
        "link_col={}\n",
        "for i in sorted (dummy_dict) :\n",
        "    link_col[i]=dummy_dict[i]\n",
        "link_col=list(link_col.values())\n",
        "#έλεγχος\n",
        "#index=index_col.index(tuple(['2','3']))\n",
        "#print(index_col[index],jc_col[index],pa_col[index],ra_col[index],link_col[index])\n",
        "#print(jc_results[index],pa_results[index],ra_results[index])\n",
        "df4 = df4.drop(columns=0)\n",
        "df4 = df4.drop(columns=1)\n",
        "df4 = df4.drop(columns=2)\n",
        "df4.index = index_col\n",
        "df4['link'] = link_col\n",
        "df4['Jacc. Coeff.'] = jc_col\n",
        "df4['Pr. Attachment'] = pa_col\n",
        "df4['Resource Allocation'] = ra_col \n",
        "print(df4)"
      ],
      "metadata": {
        "colab": {
          "base_uri": "https://localhost:8080/"
        },
        "id": "dgpvs6e6Uv6x",
        "outputId": "197f3c3d-c747-4064-a301-123713651396"
      },
      "id": "dgpvs6e6Uv6x",
      "execution_count": 11,
      "outputs": [
        {
          "output_type": "stream",
          "name": "stdout",
          "text": [
            "            link  Jacc. Coeff.  Pr. Attachment  Resource Allocation\n",
            "(0, 5)         0      0.166667              12                 0.50\n",
            "(0, 6)         0      0.250000               4                 0.25\n",
            "(0, 7)         0      0.250000               4                 0.25\n",
            "(0, 8)         0      0.250000               4                 0.25\n",
            "(0, 9)         0      0.000000              36                 0.00\n",
            "...          ...           ...             ...                  ...\n",
            "(424, 428)     0      0.000000               1                 0.00\n",
            "(425, 426)     0      0.000000               2                 0.00\n",
            "(425, 427)     0      0.000000               1                 0.00\n",
            "(425, 428)     0      0.000000               1                 0.00\n",
            "(427, 428)     0      1.000000               1                 0.50\n",
            "\n",
            "[91471 rows x 4 columns]\n"
          ]
        }
      ]
    },
    {
      "cell_type": "markdown",
      "id": "76f9318d",
      "metadata": {
        "id": "76f9318d"
      },
      "source": [
        "<li><B>3(iiiα).</B> Χρησιμοποιήστε τον Random Forest Classifier και το αντίγραφο dataframe που κατασκευάσατε στο ερώτημα 3(ii), για να προβλέψετε συνδέσεις. Συμπληρώστε στον κώδικα: τα features ($X$), την target variable ($y$) και τα ορίσματα της συνάρτησης $fit$ για το training του μοντέλου.</li>\n",
        "<li><B>3(iiiβ).</B> Δώστε τις ($A.M$ $mod$ $10$) πρώτες προβλέψεις και την ακρίβεια ($accuracy$) του μοντέλου. </li>\n",
        "<li><B>3(iiiγ).</B>Υπολογίστε την πιθανότητα να συνδεθούν οι κόμβοι ($1$,$47$) βάσει του μοντέλου σας. </li>  "
      ]
    },
    {
      "cell_type": "code",
      "execution_count": 12,
      "id": "df4a65f5",
      "metadata": {
        "id": "df4a65f5"
      },
      "outputs": [],
      "source": [
        "#uncomment whole cell\n",
        "from sklearn.model_selection import train_test_split\n",
        "from sklearn.ensemble import RandomForestClassifier\n",
        "from sklearn.metrics import accuracy_score\n",
        "from sklearn.model_selection import GridSearchCV\n",
        " \n",
        "X = df4[['Jacc. Coeff.','Pr. Attachment','Resource Allocation']]       #features, uncomment and complete\n",
        "y = df4['link'] #target, uncomment and complete\n",
        "\n",
        "X_train, X_test, y_train, y_test = train_test_split(X, y, random_state = 0) #uncomment and complete"
      ]
    },
    {
      "cell_type": "code",
      "execution_count": 13,
      "id": "26affc3a",
      "metadata": {
        "id": "26affc3a"
      },
      "outputs": [],
      "source": [
        "#uncomment whole cell\n",
        "classifier = RandomForestClassifier()   \n",
        "\n",
        "from sklearn.preprocessing import MinMaxScaler \n",
        "mm_scaler = MinMaxScaler() \n",
        "X_train_scaled = mm_scaler.fit_transform(X_train)\n",
        "X_test_scaled = mm_scaler.transform(X_test)\n",
        "\n",
        "parameters = {'n_estimators' : [10,50,100], 'max_depth' : [5,10,15]} \n",
        "model = GridSearchCV(classifier, param_grid = parameters) "
      ]
    },
    {
      "cell_type": "code",
      "execution_count": 14,
      "id": "431e2d35",
      "metadata": {
        "colab": {
          "base_uri": "https://localhost:8080/"
        },
        "id": "431e2d35",
        "outputId": "e8d7cf4f-601a-4c2a-ee3e-f2009a4cc53c"
      },
      "outputs": [
        {
          "output_type": "execute_result",
          "data": {
            "text/plain": [
              "GridSearchCV(estimator=RandomForestClassifier(),\n",
              "             param_grid={'max_depth': [5, 10, 15],\n",
              "                         'n_estimators': [10, 50, 100]})"
            ]
          },
          "metadata": {},
          "execution_count": 14
        }
      ],
      "source": [
        "model.fit(X_train_scaled,y_train )#train the model, uncomment and complete"
      ]
    },
    {
      "cell_type": "code",
      "execution_count": 15,
      "id": "1b075584",
      "metadata": {
        "colab": {
          "base_uri": "https://localhost:8080/"
        },
        "id": "1b075584",
        "outputId": "327cf0a7-8c84-40dd-f9fd-f011bfe5eae2"
      },
      "outputs": [
        {
          "output_type": "stream",
          "name": "stdout",
          "text": [
            "[0 0 0 0 0 0 0 0 0]\n",
            "0.9985569354556586\n"
          ]
        }
      ],
      "source": [
        "predictions = model.predict(X_test_scaled)       #uncomment\n",
        "a=predictions[:9]\n",
        "print(a) #get 9 first predictions, uncomment and complete\n",
        "print(accuracy_score(y_test, predictions))"
      ]
    },
    {
      "cell_type": "code",
      "execution_count": 16,
      "id": "b042eca7",
      "metadata": {
        "colab": {
          "base_uri": "https://localhost:8080/"
        },
        "id": "b042eca7",
        "outputId": "06ce38c8-afd8-4a7f-f24d-1120eff134c2"
      },
      "outputs": [
        {
          "output_type": "stream",
          "name": "stdout",
          "text": [
            "        Jacc. Coeff.  Pr. Attachment  Resource Allocation\n",
            "(0, 7)          0.25               4                 0.25\n",
            "[[0.87004523 0.12995477]]\n"
          ]
        },
        {
          "output_type": "stream",
          "name": "stderr",
          "text": [
            "/usr/local/lib/python3.7/dist-packages/sklearn/base.py:439: UserWarning: X has feature names, but RandomForestClassifier was fitted without feature names\n",
            "  f\"X has feature names, but {self.__class__.__name__} was fitted without\"\n"
          ]
        }
      ],
      "source": [
        "print(df4[['Jacc. Coeff.','Pr. Attachment','Resource Allocation']].loc[[('0', '7')]])\n",
        "predict_proba = model.predict_proba(df4[['Jacc. Coeff.','Pr. Attachment','Resource Allocation']].loc[[('0', '7')]]) #uncomment and complete\n",
        "print(predict_proba)"
      ]
    },
    {
      "cell_type": "markdown",
      "source": [
        "Παρατηρούμε πως όντως η ακμή κατατάσσεται στο σύνολο των unconnected pairs."
      ],
      "metadata": {
        "id": "UgF-EKE1pmfo"
      },
      "id": "UgF-EKE1pmfo"
    },
    {
      "cell_type": "markdown",
      "id": "f4c43988",
      "metadata": {
        "id": "f4c43988"
      },
      "source": [
        "<html><font size=4><B>4. Πρόβλεψη συνδέσμων με embedding βασισμένο σε τυχαίους περιπάτους (Random Walks) </B></font><BR><BR>\n",
        "    <li><B>4(i).</B> Εξάγετε τα χαρακτηριστικά (features) του γράφου $G'$, που προέκυψε από την αφαίρεση των ακμών. Για τον σκοπό αυτό χρησιμοποιήστε τον αλγόριθμο <B>Node2vec</B> <a href=\"https://cs.stanford.edu/~jure/pubs/node2vec-kdd16.pdf\">[3]</a>. Ο αλγόριθμος αντιστοιχίζει τους κόμβους του γράφου μέσω τυχαίων περιπάτων (biased 2nd order random walks) σε ένα χώρο μικρού αριθμού διαστάσεων (low dimensional space) διατηρώντας την μεταξύ τους γειτνίαση.\n",
        "        <BR>Για την επιλογή των παραμέτρων: \n",
        "            <li>p - παράμετρος τυχαίων περιπάτων p που καθορίζει την πιθανότητα “1/p” επιστροφής στον κόμβο προέλευσης (source node), </li>\n",
        "                <li>q - παράμετρος τυχαίων περιπάτων q που καθορίζει την πιθανότητα  “1/q” μετακίνησης σε κόμβο μακριά από τον κόμβο προέλευσης (source node), </li>\n",
        "                 <li>dimensions - πλήθος διαστάσεων των Node2Vec embeddings, </li>\n",
        "                     <li>num_walks - αριθμός περιπάτων από κάθε κόμβο, </li>\n",
        "                         <li>walk_length - μήκος τυχαίου περιπάτου, </li>\n",
        "                             <li>window_size - μέγεθος παραθύρου context για τον αλγόριθμο Word2Vec, </li><li>num_iter - αριθμός SGD επαναλήψεων (epochs), </li>\n",
        "            <li>workers - αριθμός workers για τον Word2Vec,</li>\n",
        "            χρησιμοποιήστε τις τιμές:   </html>\n",
        "   \n",
        "                   "
      ]
    },
    {
      "cell_type": "markdown",
      "id": "fdbc5274",
      "metadata": {
        "id": "fdbc5274"
      },
      "source": [
        " |   p   |   q   | dimensions|  num_walks  |walk_length |window_size|        workers            |\n",
        " |-------|-------|-----------|-------------|------------|-----------|---------------------------|\n",
        " |  1.0  |  1.0  |  128      |     10      |    80      |     10    |multiprocessing.cpu_count()|"
      ]
    },
    {
      "cell_type": "code",
      "execution_count": 17,
      "id": "aa8e668d",
      "metadata": {
        "colab": {
          "base_uri": "https://localhost:8080/",
          "height": 344,
          "referenced_widgets": [
            "1582fe697b2c446099c50a2d8796445e",
            "b9734971d5e846cc9f978d314d48e198",
            "7b3756ae5bdf4234a573ecb620dbb413",
            "785493f9388c4519accb512ac11040c4",
            "b72249d81f55482f82508088ad7eb43c",
            "ad8354f13a354fb1abcfa72524180303",
            "5215b34ff1f744edbbafd7ec40e87d26",
            "100fe7550dc24112bbe9d4d8c100a798",
            "49f7fa3ebf4e49d596046a1ce7de1fc2",
            "4cba0614a0024b2796d5a4b8ce127084",
            "d64206d6bc5d451dbdde992d9cd232c0"
          ]
        },
        "id": "aa8e668d",
        "outputId": "e71ef805-9c96-4aa5-a064-4f417317befe"
      },
      "outputs": [
        {
          "output_type": "stream",
          "name": "stdout",
          "text": [
            "Collecting node2vec\n",
            "  Downloading node2vec-0.4.3.tar.gz (4.6 kB)\n",
            "Requirement already satisfied: networkx in /usr/local/lib/python3.7/dist-packages (from node2vec) (2.6.3)\n",
            "Requirement already satisfied: gensim in /usr/local/lib/python3.7/dist-packages (from node2vec) (3.6.0)\n",
            "Requirement already satisfied: numpy in /usr/local/lib/python3.7/dist-packages (from node2vec) (1.19.5)\n",
            "Requirement already satisfied: tqdm in /usr/local/lib/python3.7/dist-packages (from node2vec) (4.62.3)\n",
            "Requirement already satisfied: joblib>=0.13.2 in /usr/local/lib/python3.7/dist-packages (from node2vec) (1.1.0)\n",
            "Requirement already satisfied: six>=1.5.0 in /usr/local/lib/python3.7/dist-packages (from gensim->node2vec) (1.15.0)\n",
            "Requirement already satisfied: scipy>=0.18.1 in /usr/local/lib/python3.7/dist-packages (from gensim->node2vec) (1.4.1)\n",
            "Requirement already satisfied: smart-open>=1.2.1 in /usr/local/lib/python3.7/dist-packages (from gensim->node2vec) (5.2.1)\n",
            "Building wheels for collected packages: node2vec\n",
            "  Building wheel for node2vec (setup.py) ... \u001b[?25l\u001b[?25hdone\n",
            "  Created wheel for node2vec: filename=node2vec-0.4.3-py3-none-any.whl size=5978 sha256=b8bbdb1ee4113f2547199918758ee94f6bd8d629c5494884e8ded6749eb5b89d\n",
            "  Stored in directory: /root/.cache/pip/wheels/07/62/78/5202cb8c03cbf1593b48a8a442fca8ceec2a8c80e22318bae9\n",
            "Successfully built node2vec\n",
            "Installing collected packages: node2vec\n",
            "Successfully installed node2vec-0.4.3\n"
          ]
        },
        {
          "output_type": "display_data",
          "data": {
            "application/vnd.jupyter.widget-view+json": {
              "model_id": "1582fe697b2c446099c50a2d8796445e",
              "version_minor": 0,
              "version_major": 2
            },
            "text/plain": [
              "Computing transition probabilities:   0%|          | 0/429 [00:00<?, ?it/s]"
            ]
          },
          "metadata": {}
        }
      ],
      "source": [
        "!pip install node2vec \n",
        "from node2vec import Node2Vec   #uncomment\n",
        "import multiprocessing          #uncomment\n",
        "\n",
        "#generate walks\n",
        "node2vec_walker = Node2Vec(G_reduced,p=1.0 ,q=1.0 ,dimensions=128 ,num_walks=10 ,walk_length=80 ,workers=multiprocessing.cpu_count() ) #uncomment and complete\n",
        "\n",
        "#train node2vec model\n",
        "n2v_model = node2vec_walker.fit(window=10 , min_count=1) #uncomment and complete"
      ]
    },
    {
      "cell_type": "markdown",
      "id": "294f0aab",
      "metadata": {
        "id": "294f0aab"
      },
      "source": [
        "<html><font>\n",
        "    <li><B>4(ii).</B> Εφαρμόστε τον αλγόριθμο Random Forest Classifier, για να προβλέψετε τις συνδέσεις.</li><BR>\n",
        "    <li><B>4(iii).</B> Υπολογίστε την ακρίβεια ($accuracy$) του μοντέλου. </li><BR></font></html>"
      ]
    },
    {
      "cell_type": "code",
      "execution_count": 18,
      "id": "6269b89a",
      "metadata": {
        "id": "6269b89a"
      },
      "outputs": [],
      "source": [
        "#apply trained Node2Vec model on each node pair of the dataframe \"unconnected+removables\"\n",
        "#uncomment:\n",
        "df_with_target_var=df3.copy()\n",
        "df_with_target_var['node_1']=df3[0]\n",
        "df_with_target_var['node_2']=df3[1]\n",
        "df_with_target_var['link']=df3[2]\n",
        "df_with_target_var.pop(0)\n",
        "df_with_target_var.pop(1)\n",
        "df_with_target_var.pop(2)\n",
        "x = [(n2v_model.wv[str(i)]+n2v_model.wv[str(j)]) for i,j in zip(df_with_target_var['node_1'], df_with_target_var['node_2'])]\n",
        "y = [(n2v_model.wv[str(i)]+n2v_model.wv[str(j)])/2 for i,j in zip(df_with_target_var['node_1'], df_with_target_var['node_2'])]\n",
        "z = [(n2v_model.wv[str(i)]*n2v_model.wv[str(j)]) for i,j in zip(df_with_target_var['node_1'], df_with_target_var['node_2'])]\n",
        "w = [(n2v_model.wv[str(i)]-n2v_model.wv[str(j)]) for i,j in zip(df_with_target_var['node_1'], df_with_target_var['node_2'])]\n",
        "l = [(n2v_model.wv[str(i)]-n2v_model.wv[str(j)])**2 for i,j in zip(df_with_target_var['node_1'], df_with_target_var['node_2'])]"
      ]
    },
    {
      "cell_type": "code",
      "execution_count": 19,
      "id": "b74e7aa7",
      "metadata": {
        "id": "b74e7aa7"
      },
      "outputs": [],
      "source": [
        "X_train, X_test, y_train, y_test = train_test_split(x, df_with_target_var['link'], random_state = 0)  #uncomment and complete\n",
        "X_train_y, X_test_y, y_train_y, y_test_y = train_test_split(y, df_with_target_var['link'], random_state = 0)\n",
        "X_train_z, X_test_z, y_train_z, y_test_z = train_test_split(z, df_with_target_var['link'], random_state = 0)\n",
        "X_train_w, X_test_w, y_train_w, y_test_w = train_test_split(w, df_with_target_var['link'], random_state = 0)\n",
        "X_train_l, X_test_l, y_train_l, y_test_l = train_test_split(l, df_with_target_var['link'], random_state = 0)"
      ]
    },
    {
      "cell_type": "code",
      "execution_count": 20,
      "id": "e75cfde7",
      "metadata": {
        "colab": {
          "base_uri": "https://localhost:8080/"
        },
        "id": "e75cfde7",
        "outputId": "a745aca6-41f8-4d12-ebc8-5f0987937f6b"
      },
      "outputs": [
        {
          "output_type": "stream",
          "name": "stdout",
          "text": [
            "0.998600664684275\n",
            "0.998600664684275\n",
            "0.998600664684275\n",
            "0.9968514955396187\n",
            "0.9975511631974812\n"
          ]
        }
      ],
      "source": [
        "#uncomment whole cell\n",
        "from sklearn.ensemble import RandomForestClassifier\n",
        "from sklearn.metrics import accuracy_score\n",
        "\n",
        "classifier = RandomForestClassifier(max_depth=2, random_state=0) \n",
        "classifier.fit(X_train,y_train)   #uncomment and complete\n",
        "predictions = classifier.predict(X_test)\n",
        "print(accuracy_score(y_test, predictions))\n",
        "classifier1 = RandomForestClassifier(max_depth=2, random_state=0) \n",
        "classifier1.fit(X_train_y,y_train_y)\n",
        "predictions_y=classifier1.predict(X_test_y)\n",
        "print(accuracy_score(y_test_y,predictions_y))\n",
        "classifier2 = RandomForestClassifier(max_depth=2, random_state=0) \n",
        "classifier2.fit(X_train_z,y_train_z)\n",
        "predictions_z=classifier2.predict(X_test_z)\n",
        "print(accuracy_score(y_test_z,predictions_z))\n",
        "classifier3 = RandomForestClassifier(max_depth=2, random_state=0) \n",
        "classifier3.fit(X_train_w,y_train_w)\n",
        "predictions_w=classifier1.predict(X_test_w)\n",
        "print(accuracy_score(y_test_w,predictions_w))\n",
        "classifier4 = RandomForestClassifier(max_depth=2, random_state=0) \n",
        "classifier4.fit(X_train_l,y_train_l)\n",
        "predictions_l=classifier1.predict(X_test_l)\n",
        "print(accuracy_score(y_test_l,predictions_l))"
      ]
    },
    {
      "cell_type": "markdown",
      "id": "a0c0b3bb",
      "metadata": {
        "id": "a0c0b3bb"
      },
      "source": [
        "<html><font size=4> <B><U>Ερώτηση bonus (+10/100)</U><B>: </font>Για τους binary operators για learning των edge features με τον αλγόριθμο Node2Vec που αναφέρονται στο <a href=\"https://cs.stanford.edu/~jure/pubs/node2vec-kdd16.pdf\">[3]</a> ((α) Average, (β) Hadamard, (γ) Weighted-L1 και (δ) Weighted-L2) τροποποιήστε τoν κώδικά σας και σημειώστε τις παρατηρήσεις σας ως προς την απόδοση του αλγορίθμου.</font></html>"
      ]
    },
    {
      "cell_type": "markdown",
      "id": "8da3a402",
      "metadata": {
        "id": "8da3a402"
      },
      "source": [
        "<html><font size=4><B><U>Βιβλιογραφία:</U></B><BR></font>\n",
        "<a href=\"https://dl.acm.org/doi/10.1145/2487788.2488173\">[1]\tJérôme Kunegis. KONECT – The Koblenz Network Collection. In Proc. Int. Conf. on World Wide Web Companion, pages 1343–1350, 2013.</a><BR>\n",
        "<a href=\"https://link.springer.com/chapter/10.1007/978-3-540-76298-0_52\">[2]\tSören Auer, Christian Bizer, Georgi Kobilarov, Jens Lehmann, Richard Cyganiak, and Zachary Ives. DBpedia: A nucleus for a web of open data. In Proc. Int. Semant. Web Conf., pages 722–735, 2008.<BR>\n",
        "<a href=\"https://cs.stanford.edu/~jure/pubs/node2vec-kdd16.pdf\">[3] A. Grover, J. Leskovec, Node2vec: Scalable Feature Learning for Networks. ACM KDD, 2016.</a><BR>\n",
        " <a href=\"https://proceedings.neurips.cc/paper/2013/file/9aa42b31882ec039965f3c4923ce901b-Paper.pdf\">[4] T.Mikolov, I.Sutskever, K.Chen, G.S.Corrado and J.Dean, Distributed representations of words and phrases and their compositionality. In NIPS, 2013.</a><BR></font></html>"
      ]
    },
    {
      "cell_type": "code",
      "execution_count": null,
      "id": "89f16b76",
      "metadata": {
        "id": "89f16b76"
      },
      "outputs": [],
      "source": [
        ""
      ]
    }
  ],
  "metadata": {
    "kernelspec": {
      "display_name": "Python 3",
      "language": "python",
      "name": "python3"
    },
    "language_info": {
      "codemirror_mode": {
        "name": "ipython",
        "version": 3
      },
      "file_extension": ".py",
      "mimetype": "text/x-python",
      "name": "python",
      "nbconvert_exporter": "python",
      "pygments_lexer": "ipython3",
      "version": "3.8.8"
    },
    "colab": {
      "name": "SNA_Assignment_3 .ipynb",
      "provenance": [],
      "collapsed_sections": []
    },
    "widgets": {
      "application/vnd.jupyter.widget-state+json": {
        "1582fe697b2c446099c50a2d8796445e": {
          "model_module": "@jupyter-widgets/controls",
          "model_name": "HBoxModel",
          "model_module_version": "1.5.0",
          "state": {
            "_view_name": "HBoxView",
            "_dom_classes": [],
            "_model_name": "HBoxModel",
            "_view_module": "@jupyter-widgets/controls",
            "_model_module_version": "1.5.0",
            "_view_count": null,
            "_view_module_version": "1.5.0",
            "box_style": "",
            "layout": "IPY_MODEL_b9734971d5e846cc9f978d314d48e198",
            "_model_module": "@jupyter-widgets/controls",
            "children": [
              "IPY_MODEL_7b3756ae5bdf4234a573ecb620dbb413",
              "IPY_MODEL_785493f9388c4519accb512ac11040c4",
              "IPY_MODEL_b72249d81f55482f82508088ad7eb43c"
            ]
          }
        },
        "b9734971d5e846cc9f978d314d48e198": {
          "model_module": "@jupyter-widgets/base",
          "model_name": "LayoutModel",
          "model_module_version": "1.2.0",
          "state": {
            "_view_name": "LayoutView",
            "grid_template_rows": null,
            "right": null,
            "justify_content": null,
            "_view_module": "@jupyter-widgets/base",
            "overflow": null,
            "_model_module_version": "1.2.0",
            "_view_count": null,
            "flex_flow": null,
            "width": null,
            "min_width": null,
            "border": null,
            "align_items": null,
            "bottom": null,
            "_model_module": "@jupyter-widgets/base",
            "top": null,
            "grid_column": null,
            "overflow_y": null,
            "overflow_x": null,
            "grid_auto_flow": null,
            "grid_area": null,
            "grid_template_columns": null,
            "flex": null,
            "_model_name": "LayoutModel",
            "justify_items": null,
            "grid_row": null,
            "max_height": null,
            "align_content": null,
            "visibility": null,
            "align_self": null,
            "height": null,
            "min_height": null,
            "padding": null,
            "grid_auto_rows": null,
            "grid_gap": null,
            "max_width": null,
            "order": null,
            "_view_module_version": "1.2.0",
            "grid_template_areas": null,
            "object_position": null,
            "object_fit": null,
            "grid_auto_columns": null,
            "margin": null,
            "display": null,
            "left": null
          }
        },
        "7b3756ae5bdf4234a573ecb620dbb413": {
          "model_module": "@jupyter-widgets/controls",
          "model_name": "HTMLModel",
          "model_module_version": "1.5.0",
          "state": {
            "_view_name": "HTMLView",
            "style": "IPY_MODEL_ad8354f13a354fb1abcfa72524180303",
            "_dom_classes": [],
            "description": "",
            "_model_name": "HTMLModel",
            "placeholder": "​",
            "_view_module": "@jupyter-widgets/controls",
            "_model_module_version": "1.5.0",
            "value": "Computing transition probabilities: 100%",
            "_view_count": null,
            "_view_module_version": "1.5.0",
            "description_tooltip": null,
            "_model_module": "@jupyter-widgets/controls",
            "layout": "IPY_MODEL_5215b34ff1f744edbbafd7ec40e87d26"
          }
        },
        "785493f9388c4519accb512ac11040c4": {
          "model_module": "@jupyter-widgets/controls",
          "model_name": "FloatProgressModel",
          "model_module_version": "1.5.0",
          "state": {
            "_view_name": "ProgressView",
            "style": "IPY_MODEL_100fe7550dc24112bbe9d4d8c100a798",
            "_dom_classes": [],
            "description": "",
            "_model_name": "FloatProgressModel",
            "bar_style": "success",
            "max": 429,
            "_view_module": "@jupyter-widgets/controls",
            "_model_module_version": "1.5.0",
            "value": 429,
            "_view_count": null,
            "_view_module_version": "1.5.0",
            "orientation": "horizontal",
            "min": 0,
            "description_tooltip": null,
            "_model_module": "@jupyter-widgets/controls",
            "layout": "IPY_MODEL_49f7fa3ebf4e49d596046a1ce7de1fc2"
          }
        },
        "b72249d81f55482f82508088ad7eb43c": {
          "model_module": "@jupyter-widgets/controls",
          "model_name": "HTMLModel",
          "model_module_version": "1.5.0",
          "state": {
            "_view_name": "HTMLView",
            "style": "IPY_MODEL_4cba0614a0024b2796d5a4b8ce127084",
            "_dom_classes": [],
            "description": "",
            "_model_name": "HTMLModel",
            "placeholder": "​",
            "_view_module": "@jupyter-widgets/controls",
            "_model_module_version": "1.5.0",
            "value": " 429/429 [00:00&lt;00:00, 4764.35it/s]",
            "_view_count": null,
            "_view_module_version": "1.5.0",
            "description_tooltip": null,
            "_model_module": "@jupyter-widgets/controls",
            "layout": "IPY_MODEL_d64206d6bc5d451dbdde992d9cd232c0"
          }
        },
        "ad8354f13a354fb1abcfa72524180303": {
          "model_module": "@jupyter-widgets/controls",
          "model_name": "DescriptionStyleModel",
          "model_module_version": "1.5.0",
          "state": {
            "_view_name": "StyleView",
            "_model_name": "DescriptionStyleModel",
            "description_width": "",
            "_view_module": "@jupyter-widgets/base",
            "_model_module_version": "1.5.0",
            "_view_count": null,
            "_view_module_version": "1.2.0",
            "_model_module": "@jupyter-widgets/controls"
          }
        },
        "5215b34ff1f744edbbafd7ec40e87d26": {
          "model_module": "@jupyter-widgets/base",
          "model_name": "LayoutModel",
          "model_module_version": "1.2.0",
          "state": {
            "_view_name": "LayoutView",
            "grid_template_rows": null,
            "right": null,
            "justify_content": null,
            "_view_module": "@jupyter-widgets/base",
            "overflow": null,
            "_model_module_version": "1.2.0",
            "_view_count": null,
            "flex_flow": null,
            "width": null,
            "min_width": null,
            "border": null,
            "align_items": null,
            "bottom": null,
            "_model_module": "@jupyter-widgets/base",
            "top": null,
            "grid_column": null,
            "overflow_y": null,
            "overflow_x": null,
            "grid_auto_flow": null,
            "grid_area": null,
            "grid_template_columns": null,
            "flex": null,
            "_model_name": "LayoutModel",
            "justify_items": null,
            "grid_row": null,
            "max_height": null,
            "align_content": null,
            "visibility": null,
            "align_self": null,
            "height": null,
            "min_height": null,
            "padding": null,
            "grid_auto_rows": null,
            "grid_gap": null,
            "max_width": null,
            "order": null,
            "_view_module_version": "1.2.0",
            "grid_template_areas": null,
            "object_position": null,
            "object_fit": null,
            "grid_auto_columns": null,
            "margin": null,
            "display": null,
            "left": null
          }
        },
        "100fe7550dc24112bbe9d4d8c100a798": {
          "model_module": "@jupyter-widgets/controls",
          "model_name": "ProgressStyleModel",
          "model_module_version": "1.5.0",
          "state": {
            "_view_name": "StyleView",
            "_model_name": "ProgressStyleModel",
            "description_width": "",
            "_view_module": "@jupyter-widgets/base",
            "_model_module_version": "1.5.0",
            "_view_count": null,
            "_view_module_version": "1.2.0",
            "bar_color": null,
            "_model_module": "@jupyter-widgets/controls"
          }
        },
        "49f7fa3ebf4e49d596046a1ce7de1fc2": {
          "model_module": "@jupyter-widgets/base",
          "model_name": "LayoutModel",
          "model_module_version": "1.2.0",
          "state": {
            "_view_name": "LayoutView",
            "grid_template_rows": null,
            "right": null,
            "justify_content": null,
            "_view_module": "@jupyter-widgets/base",
            "overflow": null,
            "_model_module_version": "1.2.0",
            "_view_count": null,
            "flex_flow": null,
            "width": null,
            "min_width": null,
            "border": null,
            "align_items": null,
            "bottom": null,
            "_model_module": "@jupyter-widgets/base",
            "top": null,
            "grid_column": null,
            "overflow_y": null,
            "overflow_x": null,
            "grid_auto_flow": null,
            "grid_area": null,
            "grid_template_columns": null,
            "flex": null,
            "_model_name": "LayoutModel",
            "justify_items": null,
            "grid_row": null,
            "max_height": null,
            "align_content": null,
            "visibility": null,
            "align_self": null,
            "height": null,
            "min_height": null,
            "padding": null,
            "grid_auto_rows": null,
            "grid_gap": null,
            "max_width": null,
            "order": null,
            "_view_module_version": "1.2.0",
            "grid_template_areas": null,
            "object_position": null,
            "object_fit": null,
            "grid_auto_columns": null,
            "margin": null,
            "display": null,
            "left": null
          }
        },
        "4cba0614a0024b2796d5a4b8ce127084": {
          "model_module": "@jupyter-widgets/controls",
          "model_name": "DescriptionStyleModel",
          "model_module_version": "1.5.0",
          "state": {
            "_view_name": "StyleView",
            "_model_name": "DescriptionStyleModel",
            "description_width": "",
            "_view_module": "@jupyter-widgets/base",
            "_model_module_version": "1.5.0",
            "_view_count": null,
            "_view_module_version": "1.2.0",
            "_model_module": "@jupyter-widgets/controls"
          }
        },
        "d64206d6bc5d451dbdde992d9cd232c0": {
          "model_module": "@jupyter-widgets/base",
          "model_name": "LayoutModel",
          "model_module_version": "1.2.0",
          "state": {
            "_view_name": "LayoutView",
            "grid_template_rows": null,
            "right": null,
            "justify_content": null,
            "_view_module": "@jupyter-widgets/base",
            "overflow": null,
            "_model_module_version": "1.2.0",
            "_view_count": null,
            "flex_flow": null,
            "width": null,
            "min_width": null,
            "border": null,
            "align_items": null,
            "bottom": null,
            "_model_module": "@jupyter-widgets/base",
            "top": null,
            "grid_column": null,
            "overflow_y": null,
            "overflow_x": null,
            "grid_auto_flow": null,
            "grid_area": null,
            "grid_template_columns": null,
            "flex": null,
            "_model_name": "LayoutModel",
            "justify_items": null,
            "grid_row": null,
            "max_height": null,
            "align_content": null,
            "visibility": null,
            "align_self": null,
            "height": null,
            "min_height": null,
            "padding": null,
            "grid_auto_rows": null,
            "grid_gap": null,
            "max_width": null,
            "order": null,
            "_view_module_version": "1.2.0",
            "grid_template_areas": null,
            "object_position": null,
            "object_fit": null,
            "grid_auto_columns": null,
            "margin": null,
            "display": null,
            "left": null
          }
        }
      }
    }
  },
  "nbformat": 4,
  "nbformat_minor": 5
}